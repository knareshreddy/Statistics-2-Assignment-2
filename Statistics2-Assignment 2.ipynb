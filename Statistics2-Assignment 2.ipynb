{
 "cells": [
  {
   "cell_type": "markdown",
   "metadata": {},
   "source": [
    "# Problem Statement \n",
    "A die marked A to E is rolled 50 times. Find the probability of getting a “D” exactly 5 times"
   ]
  },
  {
   "cell_type": "code",
   "execution_count": null,
   "metadata": {},
   "outputs": [],
   "source": [
    "n = 50, (n-5)= 45\n",
    "\n",
    "Probability of picking D Dice (r) = 1/5\n",
    "\n",
    "Probability of not picking D Dice = 1 - r \n",
    "                                    =1 - 1/5 = 4/5\n",
    "\n",
    "\n",
    "P (5 out of 20 answers incorrect) = C 50, 5) * (1/5)^45 * (4/5)^5\n",
    "\n",
    "= (50∗49∗48∗47∗46)/(5∗4∗3∗2∗1) * (1/5)^45 * (4/5)^5\n",
    "\n",
    "=  ~ 0.00002275001"
   ]
  }
 ],
 "metadata": {
  "kernelspec": {
   "display_name": "Python 3",
   "language": "python",
   "name": "python3"
  },
  "language_info": {
   "codemirror_mode": {
    "name": "ipython",
    "version": 3
   },
   "file_extension": ".py",
   "mimetype": "text/x-python",
   "name": "python",
   "nbconvert_exporter": "python",
   "pygments_lexer": "ipython3",
   "version": "3.6.4"
  }
 },
 "nbformat": 4,
 "nbformat_minor": 2
}
